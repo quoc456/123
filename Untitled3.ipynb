{
  "nbformat": 4,
  "nbformat_minor": 0,
  "metadata": {
    "colab": {
      "provenance": [],
      "authorship_tag": "ABX9TyO+IJ2OqNeCMyQTwI2vO3mK",
      "include_colab_link": true
    },
    "kernelspec": {
      "name": "python3",
      "display_name": "Python 3"
    },
    "language_info": {
      "name": "python"
    }
  },
  "cells": [
    {
      "cell_type": "markdown",
      "metadata": {
        "id": "view-in-github",
        "colab_type": "text"
      },
      "source": [
        "<a href=\"https://colab.research.google.com/github/quoc456/123/blob/main/Untitled3.ipynb\" target=\"_parent\"><img src=\"https://colab.research.google.com/assets/colab-badge.svg\" alt=\"Open In Colab\"/></a>"
      ]
    },
    {
      "cell_type": "code",
      "execution_count": null,
      "metadata": {
        "id": "ZwcUlEt6lmNH"
      },
      "outputs": [],
      "source": [
        "\n",
        "import numpy as np\n",
        "import pandas as pd\n",
        "\n",
        "from mpl_toolkits.mplot3d import Axes3D\n",
        "from sklearn.preprocessing import StandardScaler\n",
        "import matplotlib.pyplot as plt\n",
        "\n",
        "import os\n",
        "for dirname, _, filenames in os.walk('/kaggle/input'):\n",
        "    for filename in filenames:\n",
        "        print(os.path.join(dirname, filename))\n"
      ]
    },
    {
      "cell_type": "code",
      "source": [
        "\n",
        "d=pd.read_csv(\"train.csv\")\n",
        "test=pd.read_csv(\"test.csv\")\n",
        "d = d.dropna(subset=['y'])"
      ],
      "metadata": {
        "id": "NV1G3Br6lrs3"
      },
      "execution_count": null,
      "outputs": []
    },
    {
      "cell_type": "code",
      "source": [
        "#Phân phối theo cột\n",
        "def plotPerColumnDistribution(df, nGraphShown, nGraphPerRow):\n",
        "    nunique = df.nunique()\n",
        "    df = df[[col for col in df if nunique[col] > 1 and nunique[col] < 50]] #chọn các cột có từ 1 đến 50 giá trị duy nhất\n",
        "    columnNames = list(df)\n",
        "    nGraphRow = (nCol + nGraphPerRow - 1) / nGraphPerRow\n",
        "    plt.figure(num = None, figsize = (6 * nGraphPerRow, 8 * nGraphRow), dpi = 80, facecolor = 'w', edgecolor = 'k')\n",
        "    for i in range(min(nCol, nGraphShown)):\n",
        "        plt.subplot(nGraphRow, nGraphPerRow, i + 1)\n",
        "        columnDf = df.iloc[:, i]\n",
        "        if (not np.issubdtype(type(columnDf.iloc[0]), np.number)): #Loại bỏ các cột có số lượng giá trị duy nhất ít hơn 2 hoặc nhiều hơn 50.\n",
        "            valueCounts = columnDf.value_counts()\n",
        "            valueCounts.plot.bar()\n",
        "        else:\n",
        "            columnDf.hist() #vẽ biểu đồ cột nếu dữ liệu là dạng categorical, ngược lại vẽ histogram nếu dữ liệu là dạng số.\n",
        "        plt.ylabel('counts')\n",
        "        plt.xticks(rotation = 90)\n",
        "        plt.title(f'{columnNames[i]} (column {i})')\n",
        "    plt.tight_layout(pad = 1.0, w_pad = 1.0, h_pad = 1.0)\n",
        "    plt.show()\n",
        "#Ma trận tương quan\n",
        "def plotCorrelationMatrix(df, graphWidth):\n",
        "    filename = df.dataframeName\n",
        "    df = df.dropna('columns') #Loại bỏ cột có giá trị NaN.\n",
        "    df = df[[col for col in df if df[col].nunique() > 1]] # giữ các cột có nhiều hơn 1 giá trị duy nhất\n",
        "    if df.shape[1] < 2:\n",
        "        print(f'No correlation plots shown: The number of non-NaN or constant columns ({df.shape[1]}) is less than 2') #Lọc ra các cột có ít nhất 2 giá trị khác nhau.\n",
        "        return\n",
        "    corr = df.corr()\n",
        "    plt.figure(num=None, figsize=(graphWidth, graphWidth), dpi=80, facecolor='w', edgecolor='k')\n",
        "    corrMat = plt.matshow(corr, fignum = 1)\n",
        "    plt.xticks(range(len(corr.columns)), corr.columns, rotation=90)\n",
        "    plt.yticks(range(len(corr.columns)), corr.columns)\n",
        "    plt.gca().xaxis.tick_bottom()\n",
        "    plt.colorbar(corrMat)\n",
        "    plt.title(f'Correlation Matrix for {filename}', fontsize=15)\n",
        "    plt.show()\n",
        "#Sơ đồ phân tán và mật độ\n",
        "def plotScatterMatrix(df, plotSize, textSize): # giữ lại các cột số\n",
        "    # Xóa các hàng và cột có thể dẫn đến df là số ít\n",
        "    df = df.select_dtypes(include =[np.number])\n",
        "    df = df.dropna('columns')\n",
        "    df = df[[col for col in df if df[col].nunique() > 1]] # giữ các cột có nhiều hơn 1 giá trị duy nhất\n",
        "    columnNames = list(df)\n",
        "    if len(columnNames) > 10: # giảm số lượng cột để đảo ngược ma trận\n",
        "        columnNames = columnNames[:10]\n",
        "    df = df[columnNames]\n",
        "    ax = pd.plotting.scatter_matrix(df, alpha=0.75, figsize=[plotSize, plotSize], diagonal='kde')\n",
        "    corrs = df.corr().values\n",
        "    for i, j in zip(*plt.np.triu_indices_from(ax, k = 1)):\n",
        "        ax[i, j].annotate('Corr. coef = %.3f' % corrs[i, j], (0.8, 0.2), xycoords='axes fraction', ha='center', va='center', size=textSize)\n",
        "    plt.suptitle('Scatter and Density Plot')\n",
        "    plt.show()"
      ],
      "metadata": {
        "id": "iRhUgKNQmK2D"
      },
      "execution_count": null,
      "outputs": []
    },
    {
      "cell_type": "code",
      "source": [
        "d.plot(kind=\"scatter\", x=\"x\", y=\"y\")\n",
        "#biểu đồ được sử dụng để thể hiện mối quan hệ giữa hai biến số và đánh giá sự phân tán của dữ liệu."
      ],
      "metadata": {
        "colab": {
          "base_uri": "https://localhost:8080/",
          "height": 466
        },
        "id": "gdKtYgbCmXjq",
        "outputId": "0afcdd01-16ad-437a-f13c-6289eb7daa43"
      },
      "execution_count": null,
      "outputs": [
        {
          "output_type": "execute_result",
          "data": {
            "text/plain": [
              "<Axes: xlabel='x', ylabel='y'>"
            ]
          },
          "metadata": {},
          "execution_count": 5
        },
        {
          "output_type": "display_data",
          "data": {
            "text/plain": [
              "<Figure size 640x480 with 1 Axes>"
            ],
            "image/png": "[encoded data removed]"
          },
          "metadata": {}
        }
      ]
    },
    {
      "cell_type": "code",
      "source": [
        "m,n=np.shape(d)\n",
        "print(m)\n",
        "x_train=d['x'].to_numpy()\n",
        "\n",
        "y_train=d['y'].to_numpy()\n",
        "\n",
        "w=0\n",
        "b=0\n",
        "#mô hình hồi quy tuyến tính dựa trên giá trị của cột 'x' để dự đoán giá trị của cột 'y'"
      ],
      "metadata": {
        "colab": {
          "base_uri": "https://localhost:8080/"
        },
        "id": "PWSWc_plmcWw",
        "outputId": "647288d4-22ed-4216-fd7a-780b7de0dcc2"
      },
      "execution_count": null,
      "outputs": [
        {
          "output_type": "stream",
          "name": "stdout",
          "text": [
            "699\n"
          ]
        }
      ]
    },
    {
      "cell_type": "code",
      "source": [
        "def cost(w,b):\n",
        "    f_wb=np.zeros(300)\n",
        "    for i in range(m):\n",
        "        f_wb=w*x_train[i]+b\n",
        "    return f_wb\n"
      ],
      "metadata": {
        "id": "ZMyQbMFumfyM"
      },
      "execution_count": null,
      "outputs": []
    },
    {
      "cell_type": "code",
      "source": [
        "def compute_cost(x,y,w,b):\n",
        "    err=0\n",
        "    model=np.zeros(m)\n",
        "\n",
        "    for i in range(m):\n",
        "        f_wb=w*x[i]+b\n",
        "\n",
        "        err+=(f_wb-y[i])**2\n",
        "\n",
        "    cost=err/(2*m)\n",
        "\n",
        "    return cost\n",
        "#giảm thiểu giá trị của hàm chi phí."
      ],
      "metadata": {
        "id": "njpO4phamigv"
      },
      "execution_count": null,
      "outputs": []
    },
    {
      "cell_type": "code",
      "source": [
        "def gradient(x,y,w,b,m):\n",
        "    err_b=err_w=0\n",
        "    for i in range(m):\n",
        "\n",
        "        f_wb=w*x[i]+b\n",
        "        err_b+=(f_wb-y[i])\n",
        "        err_w+=(f_wb-y[i])*x[i]\n",
        "\n",
        "    dj_dw=err_w/m\n",
        "    dj_db=err_b/m\n",
        "    return dj_dw,dj_db\n",
        "    #trọng số và độ chệch của mô hình hồi quy tuyến tính."
      ],
      "metadata": {
        "id": "9fAkA_NKmj6c"
      },
      "execution_count": null,
      "outputs": []
    },
    {
      "cell_type": "code",
      "source": [
        "def descent(x,y,w_in,b_in,m,iters,alpha,compute_cost,gradient):\n",
        "    dj_db=0\n",
        "    dj_dw=0\n",
        "    w,b=w_in,b_in\n",
        "\n",
        "    for i in range(iters):\n",
        "        dj_dw,dj_db=gradient(x,y,w,b,m)\n",
        "        w=w-alpha*dj_dw\n",
        "        b=b-alpha*dj_db\n",
        "    print(w,b)\n",
        "    return w,b\n",
        "    #Trả về giá trị cuối cùng của w và b, được sử dụng cho việc dự đoán hoặc đánh giá mô hình."
      ],
      "metadata": {
        "id": "GY7zJjXOmmbK"
      },
      "execution_count": null,
      "outputs": []
    },
    {
      "cell_type": "code",
      "source": [
        "alpha=0.0005 #hệ số learning rate, quyết định tốc độ học của thuật toán gradient descent. Giá trị này cần được chọn cẩn thận vì ảnh hưởng đến việc hội tụ của mô hình. Nếu learning rate quá lớn, có thể gây overshooting và mô hình không hội tụ; nếu quá nhỏ, có thể mất nhiều thời gian để hội tụ hoặc mô hình không hội tụ.\n",
        "iters=10000 #số lần lặp trong quá trình gradient descent. Số lần lặp này cũng cần được chọn sao cho đủ để mô hình hội tụ đến giá trị tối ưu.\n",
        "finalw,finalb=descent(x_train,y_train,w,b,m,iters,alpha,compute_cost,gradient)\n",
        "\n",
        "x=x_train\n",
        "y=y_train\n"
      ],
      "metadata": {
        "colab": {
          "base_uri": "https://localhost:8080/"
        },
        "id": "39AnFdhlmq1r",
        "outputId": "fc99219a-c5b8-4b22-ab7a-69f7e2b20be5"
      },
      "execution_count": null,
      "outputs": [
        {
          "output_type": "stream",
          "name": "stdout",
          "text": [
            "1.0001335986670117 -0.07237081150308666\n"
          ]
        }
      ]
    },
    {
      "cell_type": "code",
      "source": [
        "\n",
        "\n",
        "x_test=test['x'].to_numpy()\n",
        "\n",
        "y_test=test['y'].to_numpy()\n",
        "testm,testn=np.shape(test)\n",
        "y_pred=np.zeros(testm)\n",
        "for i in range(testm):\n",
        "\n",
        "    y_pred[i]=finalw*x_test[i]+finalb\n",
        "from sklearn.metrics import r2_score\n",
        "score=r2_score(y_pred,y_test)\n",
        "print(\"the score is\",score)\n",
        "\n",
        "#Ta có thể thấy giá trị bên dưới gần bằng 1, vậy chất lượng mô hình dự đoán gần như là hoàn hảo"
      ],
      "metadata": {
        "colab": {
          "base_uri": "https://localhost:8080/"
        },
        "id": "TlYdw0CgmvZV",
        "outputId": "fce59857-20dc-4c4f-d7c6-167d6b838dbb"
      },
      "execution_count": null,
      "outputs": [
        {
          "output_type": "stream",
          "name": "stdout",
          "text": [
            "the score is 0.988346779587371\n"
          ]
        }
      ]
    }
  ]
}